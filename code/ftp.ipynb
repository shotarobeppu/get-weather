{
 "cells": [
  {
   "cell_type": "code",
   "execution_count": 48,
   "metadata": {},
   "outputs": [],
   "source": [
    "from ftplib import FTP\n",
    "import numpy as np\n",
    "import pandas as pd\n",
    "import zipfile\n",
    "from datetime import timedelta, date\n",
    "from tqdm import tqdm"
   ]
  },
  {
   "cell_type": "code",
   "execution_count": 31,
   "metadata": {},
   "outputs": [
    {
     "data": {
      "text/plain": [
       "[datetime.date(2015, 8, 1),\n",
       " datetime.date(2015, 8, 2),\n",
       " datetime.date(2015, 8, 3),\n",
       " datetime.date(2015, 8, 4),\n",
       " datetime.date(2015, 8, 5)]"
      ]
     },
     "execution_count": 31,
     "metadata": {},
     "output_type": "execute_result"
    }
   ],
   "source": [
    "def daterange(date1, date2):\n",
    "    list = []\n",
    "    for n in range(int ((date2 - date1).days)+1):\n",
    "        list.append(date1 + timedelta(n))\n",
    "    return(list)\n",
    "\n",
    "start_dt = date(2015, 8, 1)\n",
    "end_dt = date(2015, 11, 30)\n",
    "date_list = daterange(start_dt, end_dt)\n",
    "\n",
    "date_list[:5]"
   ]
  },
  {
   "cell_type": "code",
   "execution_count": 49,
   "metadata": {},
   "outputs": [
    {
     "name": "stderr",
     "output_type": "stream",
     "text": [
      "100%|██████████| 122/122 [18:11<00:00,  8.95s/it]\n"
     ]
    }
   ],
   "source": [
    "parent_dir = 'realtime_ver/v6/txt/05_AsiaSS/'\n",
    "\n",
    "ftp = FTP('hokusai.eorc.jaxa.jp')\n",
    "\n",
    "USERNAME = ***\n",
    "PASSWORD = ***\n",
    "ftp.login(user = USERNAME, passwd = PASSWORD)\n",
    "# changing directory\n",
    "ftp.cwd(parent_dir)\n",
    "\n",
    "for i in tqdm(range(len(date_list))):\n",
    "\n",
    "    date = date_list[i]\n",
    "    date_slash = date.strftime(\"%Y/%m/%d\")\n",
    "\n",
    "    ftp.cwd(date_slash)\n",
    "\n",
    "    files = ftp.nlst()\n",
    "    for file in files:\n",
    "        ftp.retrbinary(\"RETR {}\".format(file), open(\"../data/rain/zip/\"  + file, 'wb').write)\n",
    "        \n",
    "    ftp.cwd(\"../../../\")\n",
    "   "
   ]
  }
 ],
 "metadata": {
  "kernelspec": {
   "display_name": "Python 3.8.12 ('base')",
   "language": "python",
   "name": "python3"
  },
  "language_info": {
   "codemirror_mode": {
    "name": "ipython",
    "version": 3
   },
   "file_extension": ".py",
   "mimetype": "text/x-python",
   "name": "python",
   "nbconvert_exporter": "python",
   "pygments_lexer": "ipython3",
   "version": "3.8.12"
  },
  "orig_nbformat": 4,
  "vscode": {
   "interpreter": {
    "hash": "2b781eabacab7606aa9d66b057c2d183abaa3e0b353e8c070c5ad59cf8c59069"
   }
  }
 },
 "nbformat": 4,
 "nbformat_minor": 2
}
